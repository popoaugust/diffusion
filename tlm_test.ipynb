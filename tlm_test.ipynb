{
 "cells": [
  {
   "cell_type": "code",
   "execution_count": 1,
   "metadata": {},
   "outputs": [],
   "source": [
    "from diff_diffusion.tlm import jacobian_tlm\n",
    "from diff_diffusion.tlm.rhs_tlm import TLM\n",
    "from diff_diffusion.analysis.plot import plot_distributions_tlm\n",
    "from diff_diffusion.solver.total_current import TotalCurrent\n",
    "from scipy.integrate import solve_ivp\n",
    "from diff_diffusion.utils.radauDAE import RadauDAE, solve_ivp_custom\n",
    "from matplotlib import pyplot as plt\n",
    "\n",
    "import numpy as np\n",
    "from diff_diffusion.utils import parameters, grid\n",
    "from diff_diffusion.tlm import mass_tlm\n",
    "from diff_diffusion.solver import initial_conditions"
   ]
  },
  {
   "cell_type": "code",
   "execution_count": 2,
   "metadata": {},
   "outputs": [
    {
     "name": "stdout",
     "output_type": "stream",
     "text": [
      "Calculating consistent initial conditions.\n",
      "Complete\n"
     ]
    }
   ],
   "source": [
    "params = parameters.Params(slm=False, test_case_slm=False, DI=None)\n",
    "grids = grid.Grid(params)\n",
    "ic = initial_conditions.Initial_Conditions(params, grids)\n",
    "mass = mass_tlm.Mass(params, grids)\n",
    "jac = jacobian_tlm.Jac(params)\n",
    "total_current = TotalCurrent(params, grids)\n",
    "\n",
    "sol_init = ic.sol_init_tlm\n",
    "mass = mass.M\n",
    "jac = jac.jac\n",
    "\n",
    "method = RadauDAE\n",
    "rtol = params.rtol\n",
    "atol = params.atol\n",
    "\n",
    "tf = 1\n",
    "tlm_func = TLM(params)"
   ]
  },
  {
   "cell_type": "code",
   "execution_count": 3,
   "metadata": {},
   "outputs": [
    {
     "name": "stderr",
     "output_type": "stream",
     "text": [
      "  0%|                                                                                                                                             | 00:00>?"
     ]
    },
    {
     "ename": "KeyboardInterrupt",
     "evalue": "",
     "output_type": "error",
     "traceback": [
      "\u001b[1;31m---------------------------------------------------------------------------\u001b[0m",
      "\u001b[1;31mKeyboardInterrupt\u001b[0m                         Traceback (most recent call last)",
      "Cell \u001b[1;32mIn[3], line 3\u001b[0m\n\u001b[0;32m      1\u001b[0m dae_fun \u001b[38;5;241m=\u001b[39m \u001b[38;5;28;01mlambda\u001b[39;00m t, u: tlm_func(t, u, \u001b[38;5;124m'\u001b[39m\u001b[38;5;124mpbi\u001b[39m\u001b[38;5;124m'\u001b[39m)\n\u001b[1;32m----> 3\u001b[0m sol \u001b[38;5;241m=\u001b[39m solve_ivp(fun\u001b[38;5;241m=\u001b[39mdae_fun, t_span\u001b[38;5;241m=\u001b[39m(\u001b[38;5;241m0.0\u001b[39m, tf), y0\u001b[38;5;241m=\u001b[39msol_init,\n\u001b[0;32m      4\u001b[0m                 rtol\u001b[38;5;241m=\u001b[39mrtol, atol\u001b[38;5;241m=\u001b[39matol, jac_sparsity\u001b[38;5;241m=\u001b[39mjac,\n\u001b[0;32m      5\u001b[0m                 method\u001b[38;5;241m=\u001b[39mmethod, vectorized\u001b[38;5;241m=\u001b[39m\u001b[38;5;28;01mFalse\u001b[39;00m, dense_output\u001b[38;5;241m=\u001b[39m\u001b[38;5;28;01mFalse\u001b[39;00m,\n\u001b[0;32m      6\u001b[0m                 bPrintProgress\u001b[38;5;241m=\u001b[39m\u001b[38;5;28;01mTrue\u001b[39;00m, mass_matrix\u001b[38;5;241m=\u001b[39mmass,\n\u001b[0;32m      7\u001b[0m                 scale_residuals\u001b[38;5;241m=\u001b[39m\u001b[38;5;28;01mTrue\u001b[39;00m,\n\u001b[0;32m      8\u001b[0m                 factor_on_non_convergence\u001b[38;5;241m=\u001b[39m\u001b[38;5;241m0.95\u001b[39m\n\u001b[0;32m      9\u001b[0m                 )\n",
      "File \u001b[1;32mC:\\ProgramData\\miniconda3\\envs\\GenPython\\Lib\\site-packages\\scipy\\integrate\\_ivp\\ivp.py:602\u001b[0m, in \u001b[0;36msolve_ivp\u001b[1;34m(fun, t_span, y0, method, t_eval, dense_output, events, vectorized, args, **options)\u001b[0m\n\u001b[0;32m    600\u001b[0m status \u001b[38;5;241m=\u001b[39m \u001b[38;5;28;01mNone\u001b[39;00m\n\u001b[0;32m    601\u001b[0m \u001b[38;5;28;01mwhile\u001b[39;00m status \u001b[38;5;129;01mis\u001b[39;00m \u001b[38;5;28;01mNone\u001b[39;00m:\n\u001b[1;32m--> 602\u001b[0m     message \u001b[38;5;241m=\u001b[39m solver\u001b[38;5;241m.\u001b[39mstep()\n\u001b[0;32m    604\u001b[0m     \u001b[38;5;28;01mif\u001b[39;00m solver\u001b[38;5;241m.\u001b[39mstatus \u001b[38;5;241m==\u001b[39m \u001b[38;5;124m'\u001b[39m\u001b[38;5;124mfinished\u001b[39m\u001b[38;5;124m'\u001b[39m:\n\u001b[0;32m    605\u001b[0m         status \u001b[38;5;241m=\u001b[39m \u001b[38;5;241m0\u001b[39m\n",
      "File \u001b[1;32mC:\\ProgramData\\miniconda3\\envs\\GenPython\\Lib\\site-packages\\scipy\\integrate\\_ivp\\base.py:197\u001b[0m, in \u001b[0;36mOdeSolver.step\u001b[1;34m(self)\u001b[0m\n\u001b[0;32m    195\u001b[0m \u001b[38;5;28;01melse\u001b[39;00m:\n\u001b[0;32m    196\u001b[0m     t \u001b[38;5;241m=\u001b[39m \u001b[38;5;28mself\u001b[39m\u001b[38;5;241m.\u001b[39mt\n\u001b[1;32m--> 197\u001b[0m     success, message \u001b[38;5;241m=\u001b[39m \u001b[38;5;28mself\u001b[39m\u001b[38;5;241m.\u001b[39m_step_impl()\n\u001b[0;32m    199\u001b[0m     \u001b[38;5;28;01mif\u001b[39;00m \u001b[38;5;129;01mnot\u001b[39;00m success:\n\u001b[0;32m    200\u001b[0m         \u001b[38;5;28mself\u001b[39m\u001b[38;5;241m.\u001b[39mstatus \u001b[38;5;241m=\u001b[39m \u001b[38;5;124m'\u001b[39m\u001b[38;5;124mfailed\u001b[39m\u001b[38;5;124m'\u001b[39m\n",
      "File \u001b[1;32m~\\OneDrive - King Mongkut’s University of Technology Thonburi (KMUTT)\\Nathan_J_Anderson\\diff_diffusion\\utils\\radauDAE.py:610\u001b[0m, in \u001b[0;36mRadauDAE._step_impl\u001b[1;34m(self)\u001b[0m\n\u001b[0;32m    607\u001b[0m       \u001b[38;5;28mprint\u001b[39m(\u001b[38;5;124m'\u001b[39m\u001b[38;5;130;01m\\t\u001b[39;00m\u001b[38;5;124mcond(LU_real)    = \u001b[39m\u001b[38;5;132;01m{:.3e}\u001b[39;00m\u001b[38;5;124m'\u001b[39m\u001b[38;5;241m.\u001b[39mformat( \u001b[38;5;28mself\u001b[39m\u001b[38;5;241m.\u001b[39minfo[\u001b[38;5;124m'\u001b[39m\u001b[38;5;124mcond\u001b[39m\u001b[38;5;124m'\u001b[39m][\u001b[38;5;124m'\u001b[39m\u001b[38;5;124mLU_real\u001b[39m\u001b[38;5;124m'\u001b[39m][\u001b[38;5;241m-\u001b[39m\u001b[38;5;241m1\u001b[39m] ))\n\u001b[0;32m    608\u001b[0m       \u001b[38;5;28mprint\u001b[39m(\u001b[38;5;124m'\u001b[39m\u001b[38;5;130;01m\\t\u001b[39;00m\u001b[38;5;124mcond(LU_complex) = \u001b[39m\u001b[38;5;132;01m{:.3e}\u001b[39;00m\u001b[38;5;124m'\u001b[39m\u001b[38;5;241m.\u001b[39mformat( \u001b[38;5;28mself\u001b[39m\u001b[38;5;241m.\u001b[39minfo[\u001b[38;5;124m'\u001b[39m\u001b[38;5;124mcond\u001b[39m\u001b[38;5;124m'\u001b[39m][\u001b[38;5;124m'\u001b[39m\u001b[38;5;124mLU_complex\u001b[39m\u001b[38;5;124m'\u001b[39m][\u001b[38;5;241m-\u001b[39m\u001b[38;5;241m1\u001b[39m]  ))\n\u001b[1;32m--> 610\u001b[0m converged, n_iter, n_bad, Z, f_subs, rate \u001b[38;5;241m=\u001b[39m \u001b[38;5;28mself\u001b[39m\u001b[38;5;241m.\u001b[39msolve_collocation_system(\n\u001b[0;32m    611\u001b[0m     t, y, h, Z0, newton_scale, \u001b[38;5;28mself\u001b[39m\u001b[38;5;241m.\u001b[39mnewton_tol,\n\u001b[0;32m    612\u001b[0m     LU_real, LU_complex, residual_scale\u001b[38;5;241m=\u001b[39m\u001b[38;5;28mself\u001b[39m\u001b[38;5;241m.\u001b[39mhscale)\n\u001b[0;32m    614\u001b[0m safety \u001b[38;5;241m=\u001b[39m \u001b[38;5;28mself\u001b[39m\u001b[38;5;241m.\u001b[39msafety_factor \u001b[38;5;241m*\u001b[39m (\u001b[38;5;241m2\u001b[39m \u001b[38;5;241m*\u001b[39m \u001b[38;5;28mself\u001b[39m\u001b[38;5;241m.\u001b[39mNEWTON_MAXITER \u001b[38;5;241m+\u001b[39m \u001b[38;5;241m1\u001b[39m) \u001b[38;5;241m/\u001b[39m (\u001b[38;5;241m2\u001b[39m \u001b[38;5;241m*\u001b[39m \u001b[38;5;28mself\u001b[39m\u001b[38;5;241m.\u001b[39mNEWTON_MAXITER \u001b[38;5;241m+\u001b[39m n_iter)\n\u001b[0;32m    615\u001b[0m \u001b[38;5;28;01mif\u001b[39;00m BPRINT:\n",
      "File \u001b[1;32m~\\OneDrive - King Mongkut’s University of Technology Thonburi (KMUTT)\\Nathan_J_Anderson\\diff_diffusion\\utils\\radauDAE.py:853\u001b[0m, in \u001b[0;36mRadauDAE.solve_collocation_system\u001b[1;34m(self, t, y, h, Z0, norm_scale, tol, LU_real, LU_complex, residual_scale)\u001b[0m\n\u001b[0;32m    850\u001b[0m     \u001b[38;5;28mprint\u001b[39m(\u001b[38;5;124m'\u001b[39m\u001b[38;5;130;01m\\t\u001b[39;00m\u001b[38;5;130;01m\\t\u001b[39;00m\u001b[38;5;124mresidual rate = \u001b[39m\u001b[38;5;132;01m{:.2e}\u001b[39;00m\u001b[38;5;124m'\u001b[39m\u001b[38;5;241m.\u001b[39mformat(rate_res))\n\u001b[0;32m    852\u001b[0m \u001b[38;5;66;03m# compute Newton increment\u001b[39;00m\n\u001b[1;32m--> 853\u001b[0m dW_real    \u001b[38;5;241m=\u001b[39m \u001b[38;5;28mself\u001b[39m\u001b[38;5;241m.\u001b[39msolve_lu(LU_real,    f_real)\n\u001b[0;32m    854\u001b[0m dW_complex \u001b[38;5;241m=\u001b[39m \u001b[38;5;28mself\u001b[39m\u001b[38;5;241m.\u001b[39msolve_lu(LU_complex, f_complex)\n\u001b[0;32m    855\u001b[0m \u001b[38;5;28mself\u001b[39m\u001b[38;5;241m.\u001b[39mnlusolve \u001b[38;5;241m-\u001b[39m\u001b[38;5;241m=\u001b[39m \u001b[38;5;241m1\u001b[39m \u001b[38;5;66;03m# to match the original Fortran code\u001b[39;00m\n",
      "File \u001b[1;32m~\\OneDrive - King Mongkut’s University of Technology Thonburi (KMUTT)\\Nathan_J_Anderson\\diff_diffusion\\utils\\radauDAE.py:338\u001b[0m, in \u001b[0;36mRadauDAE.__init__.<locals>.solve_lu\u001b[1;34m(LU, b)\u001b[0m\n\u001b[0;32m    336\u001b[0m \u001b[38;5;28;01mdef\u001b[39;00m \u001b[38;5;21msolve_lu\u001b[39m(LU, b):\n\u001b[0;32m    337\u001b[0m     \u001b[38;5;28mself\u001b[39m\u001b[38;5;241m.\u001b[39mnlusolve\u001b[38;5;241m+\u001b[39m\u001b[38;5;241m=\u001b[39m\u001b[38;5;241m1\u001b[39m\n\u001b[1;32m--> 338\u001b[0m     \u001b[38;5;28;01mreturn\u001b[39;00m LU\u001b[38;5;241m.\u001b[39msolve(b)\n",
      "\u001b[1;31mKeyboardInterrupt\u001b[0m: "
     ]
    }
   ],
   "source": [
    "dae_fun = lambda t, u: tlm_func(t, u, 'pbi')\n",
    "\n",
    "sol = solve_ivp(fun=dae_fun, t_span=(0.0, tf), y0=sol_init,\n",
    "                rtol=rtol, atol=atol, jac_sparsity=jac,\n",
    "                method=method, vectorized=False, dense_output=False,\n",
    "                bPrintProgress=True, mass_matrix=mass,\n",
    "                scale_residuals=True,\n",
    "                factor_on_non_convergence=0.95\n",
    "                )\n",
    "# float64 limitation = 2.2E-308 to 1.7E+308."
   ]
  },
  {
   "cell_type": "code",
   "execution_count": null,
   "metadata": {},
   "outputs": [],
   "source": [
    "10 * np.abs(np.nextafter(0, np.inf) - 0)"
   ]
  },
  {
   "cell_type": "code",
   "execution_count": null,
   "metadata": {},
   "outputs": [],
   "source": [
    "t = sol.t\n",
    "dae_fun = lambda t, u: tlm_func(t, u, 'test1')\n",
    "sol_init = sol.y[:,-1]\n",
    "\n",
    "sol = solve_ivp(fun=dae_fun, t_span=(0.0, 10*tf), y0=sol_init,\n",
    "            rtol=rtol, atol=atol, jac_sparsity=jac,\n",
    "            method=method, vectorized=False, dense_output=True,\n",
    "            bPrintProgress=True, mass_matrix=mass\n",
    "            )"
   ]
  },
  {
   "cell_type": "code",
   "execution_count": null,
   "metadata": {},
   "outputs": [],
   "source": [
    "sol_init = sol.y[:,-1]\n",
    "tf_reverse_scan = params.tf_scan\n",
    "dae_fun = lambda t, u: tlm_func(t, u, 'reverse_scan')\n",
    "\n",
    "sol = solve_ivp_custom(fun=dae_fun, t_span=(0.0, tf_reverse_scan), y0=sol_init,\n",
    "                rtol=rtol, atol=atol, jac_sparsity=jac,\n",
    "                method=method, vectorized=False, dense_output=True,\n",
    "                bPrintProgress=True, mass_matrix=mass,\n",
    "                factor_on_non_convergence=0.5\n",
    "                )"
   ]
  },
  {
   "cell_type": "code",
   "execution_count": null,
   "metadata": {},
   "outputs": [],
   "source": []
  }
 ],
 "metadata": {
  "kernelspec": {
   "display_name": "Python 3 (ipykernel)",
   "language": "python",
   "name": "python3"
  },
  "language_info": {
   "codemirror_mode": {
    "name": "ipython",
    "version": 3
   },
   "file_extension": ".py",
   "mimetype": "text/x-python",
   "name": "python",
   "nbconvert_exporter": "python",
   "pygments_lexer": "ipython3",
   "version": "3.9.13"
  }
 },
 "nbformat": 4,
 "nbformat_minor": 4
}
